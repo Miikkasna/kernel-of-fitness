{
 "cells": [
  {
   "cell_type": "code",
   "execution_count": null,
   "metadata": {},
   "outputs": [],
   "source": [
    "from firebase import firebase\n",
    "from datetime import datetime\n",
    "import numpy as np\n",
    "\n",
    "# get data\n",
    "fb = firebase.FirebaseApplication(url)\n",
    "data = fb.get('/trainingdata', None)\n",
    "workouts = list(data.keys())[:]\n",
    "# leave out workouts older than 90 days\n",
    "for workout in workouts:\n",
    "    if data[workout]['date'] < datetime.now().timestamp() - 90:\n",
    "        workouts.remove(workout)\n",
    "# filter data\n",
    "data = np.array([[data[workout]['heart_rate'], data[workout]['power']] for workout in workouts])\n",
    "\n",
    "\n",
    "# define GP models\n",
    "from sklearn import gaussian_process\n",
    "from sklearn.gaussian_process.kernels import WhiteKernel, ConstantKernel, RBF\n",
    "\n",
    "X = data[:, 1].reshape(-1, 1)\n",
    "y = data[:, 0]\n",
    "\n",
    "# Use the data to fit the HR(power) model\n",
    "# Kernel:  1.52**2 * RBF(length_scale=121) + WhiteKernel(noise_level=0.13)\n",
    "kernel = ConstantKernel(constant_value=1.52**2, constant_value_bounds='fixed') * RBF(length_scale=121, length_scale_bounds='fixed') + WhiteKernel(noise_level=0.13, noise_level_bounds='fixed')\n",
    "gp1 = gaussian_process.GaussianProcessRegressor(kernel=kernel, n_restarts_optimizer=5, normalize_y=True)\n",
    "gp1.fit(X, y)\n",
    "\n",
    "# Initialize the HR(time) model\n",
    "# Kernel:  0.78**2 * RBF(length_scale=8) + WhiteKernel(noise_level=0.001)\n",
    "kernel2 = ConstantKernel(constant_value=0.78**2, constant_value_bounds='fixed') * RBF(length_scale=8, length_scale_bounds='fixed') + WhiteKernel(noise_level=0.001, noise_level_bounds='fixed')\n",
    "gp2 = gaussian_process.GaussianProcessRegressor(kernel=kernel, n_restarts_optimizer=5, normalize_y=False)\n"
   ]
  },
  {
   "cell_type": "code",
   "execution_count": null,
   "metadata": {},
   "outputs": [],
   "source": [
    "# simulating live data\n",
    "# pwr as power, hr as heart rate, t as time\n",
    "est_hr = 0\n",
    "EST_HR = []\n",
    "for i in range(len(t)):\n",
    "    EST_HR.append(est_hr)\n",
    "    # Get the predicted hr using HR(power) model\n",
    "    x = pwr[i].reshape(-1, 1)\n",
    "    mean_f, sigma = gp1.predict(x, return_std=True)\n",
    "    # Fit HR(time) model using the predicted hr. Subtract mean from the predicted hr to converge towards the mean\n",
    "    est_hrs_norm = np.array(EST_HR) - mean_f[0]\n",
    "    gp2.fit(t[:i].reshape(-1, 1), est_hrs_norm.reshape(-1, 1))\n",
    "    # Predict the HR curve using the HR(time) model (cover full workout length)\n",
    "    est_hr_live = gp2.predict(t.reshape(-1, 1), return_std=False) + mean_f[0]\n",
    "    # get standard deviation from HR(power) model\n",
    "    _, sigma = gp1.predict(pwr.reshape(-1, 1), return_std=True)\n",
    "    # update estimate\n",
    "    est_hr = mean_f[0]\n",
    "\n",
    "    # update plot\n",
    "    update_live_plot(t, est_hr_live) # plot the HR(power) curve\n",
    "    update_live_plot(t[:i], hr[:i], color='red') # plot the actual HR curve\n",
    "    update_live_plot(t, est_hr_live, color='green', alpha=0.2, fill=True, sigma=sigma) # plot the standard deviation\n",
    "\n",
    "\n"
   ]
  }
 ],
 "metadata": {
  "kernelspec": {
   "display_name": "Python 3",
   "language": "python",
   "name": "python3"
  },
  "language_info": {
   "codemirror_mode": {
    "name": "ipython",
    "version": 3
   },
   "file_extension": ".py",
   "mimetype": "text/x-python",
   "name": "python",
   "nbconvert_exporter": "python",
   "pygments_lexer": "ipython3",
   "version": "3.11.1"
  }
 },
 "nbformat": 4,
 "nbformat_minor": 2
}
